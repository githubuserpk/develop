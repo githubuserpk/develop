{
 "cells": [
  {
   "cell_type": "code",
   "execution_count": 0,
   "metadata": {
    "application/vnd.databricks.v1+cell": {
     "cellMetadata": {
      "byteLimit": 2048000,
      "rowLimit": 10000
     },
     "inputWidgets": {},
     "nuid": "c48334ab-b9d9-4216-9803-2e27bd56909a",
     "showTitle": false,
     "tableResultSettingsMap": {},
     "title": ""
    }
   },
   "outputs": [],
   "source": [
    "# Step 1: Create a text input widget\n",
    "dbutils.widgets.text(\"user_name\", \"\", \"Enter your name\")\n",
    "\n",
    "# Step 2: Get the input from the widget\n",
    "name = dbutils.widgets.get(\"user_name\")\n",
    "\n",
    "# Step 3: Print the input back to the notebook\n",
    "print(f\"Hello, {name}! 👋\")\n"
   ]
  },
  {
   "cell_type": "code",
   "execution_count": 0,
   "metadata": {
    "application/vnd.databricks.v1+cell": {
     "cellMetadata": {
      "byteLimit": 2048000,
      "rowLimit": 10000
     },
     "inputWidgets": {},
     "nuid": "f4116779-d84c-43c0-af6a-5a8da766c2e8",
     "showTitle": false,
     "tableResultSettingsMap": {},
     "title": ""
    }
   },
   "outputs": [],
   "source": [
    "user_text = \"\"\"\n",
    "# Paste your multiline text or JSON here.\n",
    "# This works great for long content.\n",
    "\n",
    "This is the text entered by pk \n",
    "ou wake up one morning, grab your espresso, and sit down to code. You fire up your favorite AI assistant that’s been saving your butt for months. Suddenly, it tells you that the 500 requests you never even came close to using have somehow vanished overnight.\n",
    "\n",
    "Your yearly subscription that costs you $7,000? Worthless. The tool that felt like magic now feels like a casino rigged against you.\n",
    "\n",
    "\n",
    "\n",
    "\"\"\"\n"
   ]
  },
  {
   "cell_type": "code",
   "execution_count": 0,
   "metadata": {
    "application/vnd.databricks.v1+cell": {
     "cellMetadata": {
      "byteLimit": 2048000,
      "rowLimit": 10000
     },
     "inputWidgets": {},
     "nuid": "8d51afee-a0e4-47f2-9f93-5e484141c470",
     "showTitle": false,
     "tableResultSettingsMap": {},
     "title": ""
    }
   },
   "outputs": [],
   "source": [
    "print(\"You entered:\")\n",
    "print(user_text)"
   ]
  },
  {
   "cell_type": "code",
   "execution_count": 0,
   "metadata": {
    "application/vnd.databricks.v1+cell": {
     "cellMetadata": {
      "byteLimit": 2048000,
      "rowLimit": 10000
     },
     "inputWidgets": {},
     "nuid": "0b187458-252f-469b-95df-6b374b65b5ba",
     "showTitle": false,
     "tableResultSettingsMap": {},
     "title": ""
    }
   },
   "outputs": [],
   "source": [
    "# secret scope name, PAT name\n",
    "token = dbutils.secrets.get(\"gemini-databricks-secret\", \"gemini-databricks\")\n",
    "print(\"✅ Token retrieved successfully.\")\n"
   ]
  },
  {
   "cell_type": "code",
   "execution_count": 0,
   "metadata": {
    "application/vnd.databricks.v1+cell": {
     "cellMetadata": {
      "byteLimit": 2048000,
      "rowLimit": 10000
     },
     "inputWidgets": {},
     "nuid": "7b95d1a0-1033-4f81-bda7-9259daea9982",
     "showTitle": false,
     "tableResultSettingsMap": {},
     "title": ""
    }
   },
   "outputs": [],
   "source": [
    "import requests\n",
    "import json\n",
    "\n",
    "url = \"https://dbc-319bc666-0c75.cloud.databricks.com/serving-endpoints/gemini-databricks/invocations\"\n",
    "\n",
    "token = dbutils.secrets.get(scope=\"gemini-databricks-secret\", key=\"gemini-databricks\")\n",
    "\n",
    "headers = {\n",
    "    \"Authorization\": f\"Bearer {token}\",\n",
    "    \"Content-Type\": \"application/json\"\n",
    "}\n",
    "\n",
    "payload = {\n",
    "    \"messages\": [{\"role\": \"user\", \"content\": \"what is Generative AI\"}]\n",
    "}\n",
    "\n",
    "response = requests.post(url, headers=headers, data=json.dumps(payload))\n",
    "print(response.json())\n"
   ]
  },
  {
   "cell_type": "code",
   "execution_count": 0,
   "metadata": {
    "application/vnd.databricks.v1+cell": {
     "cellMetadata": {
      "byteLimit": 2048000,
      "implicitDf": true,
      "rowLimit": 10000
     },
     "inputWidgets": {},
     "nuid": "c6e58c6f-7335-4fc1-9f54-8b4f2e09381c",
     "showTitle": false,
     "tableResultSettingsMap": {},
     "title": ""
    }
   },
   "outputs": [],
   "source": [
    "\n",
    "%sql\n",
    "\n",
    "--I want to create a function and register it as a tool in unity catalog\n",
    "\n",
    "--Use the %sql magic command to execute SQL\n",
    "\n",
    "CREATE SCHEMA IF NOT EXISTS workspace.tools;\n",
    "\n",
    "-- Now create a simple function (SQL version)\n",
    "CREATE OR REPLACE FUNCTION workspace.tools.add_numbers(a INT, b INT)\n",
    "RETURNS INT\n",
    "RETURN a + b;\n"
   ]
  },
  {
   "cell_type": "code",
   "execution_count": 0,
   "metadata": {
    "application/vnd.databricks.v1+cell": {
     "cellMetadata": {
      "byteLimit": 2048000,
      "implicitDf": true,
      "rowLimit": 10000
     },
     "inputWidgets": {},
     "nuid": "c2d1a18a-ad43-490b-8276-488c54bd87f0",
     "showTitle": false,
     "tableResultSettingsMap": {},
     "title": ""
    }
   },
   "outputs": [],
   "source": [
    "%sql\n",
    "show catalogs"
   ]
  },
  {
   "cell_type": "code",
   "execution_count": 0,
   "metadata": {
    "application/vnd.databricks.v1+cell": {
     "cellMetadata": {
      "byteLimit": 2048000,
      "rowLimit": 10000
     },
     "inputWidgets": {},
     "nuid": "65a11c79-ce91-4b95-a5e1-89432793c1c3",
     "showTitle": false,
     "tableResultSettingsMap": {},
     "title": ""
    }
   },
   "outputs": [],
   "source": [
    "import requests\n",
    "import json\n",
    "\n",
    "url = \"https://dbc-319bc666-0c75.cloud.databricks.com/serving-endpoints/gemini-databricks/invocations\"\n",
    "\n",
    "token = dbutils.secrets.get(scope=\"gemini-databricks-secret\", key=\"gemini-databricks\")\n",
    "\n",
    "headers = {\n",
    "    \"Authorization\": f\"Bearer {token}\",\n",
    "    \"Content-Type\": \"application/json\"\n",
    "}\n",
    "\n",
    "# Claude Agent prompt — it should trigger your registered tool\n",
    "payload = {\n",
    "    \"messages\": [\n",
    "        {\n",
    "            \"role\": \"user\",\n",
    "            \"content\": \"Add 15 and 27 using the add_numbers tool\"\n",
    "        }\n",
    "    ],\n",
    "    \"max_tokens\": 256\n",
    "}\n",
    "\n",
    "response = requests.post(url, headers=headers, data=json.dumps(payload))\n",
    "\n",
    "# Display result\n",
    "print(response.json())"
   ]
  }
 ],
 "metadata": {
  "application/vnd.databricks.v1+notebook": {
   "computePreferences": null,
   "dashboards": [],
   "environmentMetadata": {
    "base_environment": "",
    "environment_version": "2"
   },
   "inputWidgetPreferences": null,
   "language": "python",
   "notebookMetadata": {
    "mostRecentlyExecutedCommandWithImplicitDF": {
     "commandId": 7394676401636421,
     "dataframes": [
      "_sqldf"
     ]
    },
    "pythonIndentUnit": 4
   },
   "notebookName": "Notebook basics py",
   "widgets": {
    "user_name": {
     "currentValue": "PK",
     "nuid": "bd5a0462-d57a-4976-bdba-361f3e4d83d4",
     "typedWidgetInfo": {
      "autoCreated": false,
      "defaultValue": "",
      "label": "Enter your name",
      "name": "user_name",
      "options": {
       "widgetDisplayType": "Text",
       "validationRegex": null
      },
      "parameterDataType": "String"
     },
     "widgetInfo": {
      "widgetType": "text",
      "defaultValue": "",
      "label": "Enter your name",
      "name": "user_name",
      "options": {
       "widgetType": "text",
       "autoCreated": null,
       "validationRegex": null
      }
     }
    }
   }
  },
  "language_info": {
   "name": "python"
  }
 },
 "nbformat": 4,
 "nbformat_minor": 0
}
