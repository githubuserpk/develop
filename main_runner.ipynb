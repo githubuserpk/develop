{
 "cells": [
  {
   "cell_type": "code",
   "execution_count": 0,
   "metadata": {
    "application/vnd.databricks.v1+cell": {
     "cellMetadata": {
      "byteLimit": 2048000,
      "rowLimit": 10000
     },
     "inputWidgets": {},
     "nuid": "c1fe1c0a-7b8d-4fd6-af38-6ba0ed6b77f7",
     "showTitle": false,
     "tableResultSettingsMap": {},
     "title": ""
    }
   },
   "outputs": [],
   "source": [
    "# main_runner\n",
    "\n",
    "# Step 1: Check volumetrics\n",
    "volumetrics = dbutils.notebook.run(\"1.get_volumetrics\", 0)\n",
    "print(f\"Step 1 completed: Source count = {volumetrics}\")\n",
    "\n",
    "# # Step 2: Process data with parameters\n",
    "# dbutils.notebook.run(\"2.processing\", 0, {\n",
    "#     \"start_date\": \"2025-07-01\",\n",
    "#     \"end_date\": \"2025-07-10\",\n",
    "#     \"product_id\": \"D101\"\n",
    "# })\n",
    "\n",
    "# # Step 3: Run validation\n",
    "# dbutils.notebook.run(\"test_results\", 0)\n",
    "\n",
    "# print(\"🎯 All steps completed successfully.\")\n"
   ]
  }
 ],
 "metadata": {
  "application/vnd.databricks.v1+notebook": {
   "computePreferences": null,
   "dashboards": [],
   "environmentMetadata": {
    "base_environment": "",
    "environment_version": "2"
   },
   "inputWidgetPreferences": null,
   "language": "python",
   "notebookMetadata": {
    "pythonIndentUnit": 4
   },
   "notebookName": "main_runner",
   "widgets": {}
  },
  "language_info": {
   "name": "python"
  }
 },
 "nbformat": 4,
 "nbformat_minor": 0
}
