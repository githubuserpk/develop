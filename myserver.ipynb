{
 "cells": [
  {
   "cell_type": "code",
   "execution_count": 0,
   "metadata": {
    "application/vnd.databricks.v1+cell": {
     "cellMetadata": {
      "byteLimit": 2048000,
      "rowLimit": 10000
     },
     "inputWidgets": {},
     "nuid": "c217949a-99b6-41f2-a889-e6c03e0f3e5e",
     "showTitle": false,
     "tableResultSettingsMap": {},
     "title": ""
    }
   },
   "outputs": [],
   "source": [
    "# main notebook\n",
    "\n",
    "from datetime import datetime\n",
    "\n",
    "# Get current date\n",
    "current_date = datetime.today().strftime('%Y-%m-%d')\n",
    "\n",
    "# Print and return\n",
    "print(f\"Current Date: {current_date}\")\n",
    "\n",
    "# Use dbutils.notebook.exit() to return the date to the caller\n",
    "dbutils.notebook.exit(current_date)\n"
   ]
  }
 ],
 "metadata": {
  "application/vnd.databricks.v1+notebook": {
   "computePreferences": null,
   "dashboards": [],
   "environmentMetadata": {
    "base_environment": "",
    "environment_version": "2"
   },
   "inputWidgetPreferences": null,
   "language": "python",
   "notebookMetadata": {
    "pythonIndentUnit": 4
   },
   "notebookName": "myserver",
   "widgets": {}
  },
  "language_info": {
   "name": "python"
  }
 },
 "nbformat": 4,
 "nbformat_minor": 0
}
