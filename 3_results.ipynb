{
 "cells": [
  {
   "cell_type": "code",
   "execution_count": 0,
   "metadata": {
    "application/vnd.databricks.v1+cell": {
     "cellMetadata": {
      "byteLimit": 2048000,
      "rowLimit": 10000
     },
     "inputWidgets": {},
     "nuid": "b2f5b5eb-c0c6-4c08-9d91-9f2a50c49b14",
     "showTitle": false,
     "tableResultSettingsMap": {},
     "title": ""
    }
   },
   "outputs": [],
   "source": [
    "# test_results\n",
    "\n",
    "df = spark.table(\"testing.bronze.t1\")\n",
    "record_count = df.count()\n",
    "\n",
    "if record_count > 0:\n",
    "    print(f\"✅ Test passed: {record_count} records in testing.bronze.pk_salestxn.\")\n",
    "else:\n",
    "    raise Exception(\"❌ Test failed: No records found in testing.bronze.pk_salestxn.\")\n"
   ]
  }
 ],
 "metadata": {
  "application/vnd.databricks.v1+notebook": {
   "computePreferences": null,
   "dashboards": [],
   "environmentMetadata": {
    "base_environment": "",
    "environment_version": "2"
   },
   "inputWidgetPreferences": null,
   "language": "python",
   "notebookMetadata": {
    "pythonIndentUnit": 4
   },
   "notebookName": "3_results",
   "widgets": {}
  },
  "language_info": {
   "name": "python"
  }
 },
 "nbformat": 4,
 "nbformat_minor": 0
}
